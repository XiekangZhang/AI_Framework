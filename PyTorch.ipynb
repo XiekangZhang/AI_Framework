{
  "nbformat": 4,
  "nbformat_minor": 0,
  "metadata": {
    "colab": {
      "name": "PyTorch",
      "provenance": []
    },
    "kernelspec": {
      "name": "python3",
      "display_name": "Python 3"
    }
  },
  "cells": [
    {
      "cell_type": "markdown",
      "metadata": {
        "id": "FfQCVKXnO9Vu",
        "colab_type": "text"
      },
      "source": [
        "#1. Working PyTorch Tensors"
      ]
    },
    {
      "cell_type": "markdown",
      "metadata": {
        "id": "zS32vhNIPCEI",
        "colab_type": "text"
      },
      "source": [
        "##1.1. Creating and Initalizing Tensor"
      ]
    },
    {
      "cell_type": "code",
      "metadata": {
        "id": "DLp90qVEORh2",
        "colab_type": "code",
        "colab": {
          "base_uri": "https://localhost:8080/",
          "height": 34
        },
        "outputId": "c75fb67b-fd3e-4589-9055-cdb1d93df810"
      },
      "source": [
        "import torch\n",
        "print(torch.__version__)"
      ],
      "execution_count": 1,
      "outputs": [
        {
          "output_type": "stream",
          "text": [
            "1.4.0\n"
          ],
          "name": "stdout"
        }
      ]
    },
    {
      "cell_type": "code",
      "metadata": {
        "id": "5LBXXwQnPxUZ",
        "colab_type": "code",
        "colab": {
          "base_uri": "https://localhost:8080/",
          "height": 333
        },
        "outputId": "9188267d-fa29-4a98-f4ed-bd522cc766de"
      },
      "source": [
        "# current default floating point torch.dtype\n",
        "print(torch.get_default_dtype())\n",
        "# default dtype for a tensor can only be a float type\n",
        "torch.set_default_dtype(torch.int)"
      ],
      "execution_count": 5,
      "outputs": [
        {
          "output_type": "stream",
          "text": [
            "torch.float32\n"
          ],
          "name": "stdout"
        },
        {
          "output_type": "error",
          "ename": "TypeError",
          "evalue": "ignored",
          "traceback": [
            "\u001b[0;31m---------------------------------------------------------------------------\u001b[0m",
            "\u001b[0;31mTypeError\u001b[0m                                 Traceback (most recent call last)",
            "\u001b[0;32m<ipython-input-5-ca93f15c70e8>\u001b[0m in \u001b[0;36m<module>\u001b[0;34m()\u001b[0m\n\u001b[1;32m      1\u001b[0m \u001b[0mprint\u001b[0m\u001b[0;34m(\u001b[0m\u001b[0mtorch\u001b[0m\u001b[0;34m.\u001b[0m\u001b[0mget_default_dtype\u001b[0m\u001b[0;34m(\u001b[0m\u001b[0;34m)\u001b[0m\u001b[0;34m)\u001b[0m\u001b[0;34m\u001b[0m\u001b[0;34m\u001b[0m\u001b[0m\n\u001b[1;32m      2\u001b[0m \u001b[0;31m# default dtype for a tensor can only be a float type\u001b[0m\u001b[0;34m\u001b[0m\u001b[0;34m\u001b[0m\u001b[0;34m\u001b[0m\u001b[0m\n\u001b[0;32m----> 3\u001b[0;31m \u001b[0mtorch\u001b[0m\u001b[0;34m.\u001b[0m\u001b[0mset_default_dtype\u001b[0m\u001b[0;34m(\u001b[0m\u001b[0mtorch\u001b[0m\u001b[0;34m.\u001b[0m\u001b[0mint\u001b[0m\u001b[0;34m)\u001b[0m\u001b[0;34m\u001b[0m\u001b[0;34m\u001b[0m\u001b[0m\n\u001b[0m",
            "\u001b[0;32m/usr/local/lib/python3.6/dist-packages/torch/__init__.py\u001b[0m in \u001b[0;36mset_default_dtype\u001b[0;34m(d)\u001b[0m\n\u001b[1;32m    175\u001b[0m \u001b[0;34m\u001b[0m\u001b[0m\n\u001b[1;32m    176\u001b[0m     \"\"\"\n\u001b[0;32m--> 177\u001b[0;31m     \u001b[0m_C\u001b[0m\u001b[0;34m.\u001b[0m\u001b[0m_set_default_dtype\u001b[0m\u001b[0;34m(\u001b[0m\u001b[0md\u001b[0m\u001b[0;34m)\u001b[0m\u001b[0;34m\u001b[0m\u001b[0;34m\u001b[0m\u001b[0m\n\u001b[0m\u001b[1;32m    178\u001b[0m \u001b[0;34m\u001b[0m\u001b[0m\n\u001b[1;32m    179\u001b[0m \u001b[0;31m# If you edit these imports, please update torch/__init__.py.in as well\u001b[0m\u001b[0;34m\u001b[0m\u001b[0;34m\u001b[0m\u001b[0;34m\u001b[0m\u001b[0m\n",
            "\u001b[0;31mTypeError\u001b[0m: only floating-point types are supported as the default type"
          ]
        }
      ]
    },
    {
      "cell_type": "code",
      "metadata": {
        "id": "kFHm6ixmQDcv",
        "colab_type": "code",
        "colab": {
          "base_uri": "https://localhost:8080/",
          "height": 34
        },
        "outputId": "8ec70c46-b549-4137-ca5e-ba6abe008b4d"
      },
      "source": [
        "# Set the default floating point to torch.float64\n",
        "torch.set_default_dtype(torch.float64)\n",
        "torch.get_default_dtype()"
      ],
      "execution_count": 6,
      "outputs": [
        {
          "output_type": "execute_result",
          "data": {
            "text/plain": [
              "torch.float64"
            ]
          },
          "metadata": {
            "tags": []
          },
          "execution_count": 6
        }
      ]
    },
    {
      "cell_type": "markdown",
      "metadata": {
        "id": "2jKpdrjdQwZx",
        "colab_type": "text"
      },
      "source": [
        "###1.1.1. Creating Tensors"
      ]
    },
    {
      "cell_type": "code",
      "metadata": {
        "id": "jCKbXVKvQtmn",
        "colab_type": "code",
        "colab": {
          "base_uri": "https://localhost:8080/",
          "height": 51
        },
        "outputId": "c0675d6b-1563-405d-8f38-9e5ae0aec637"
      },
      "source": [
        "# A Tensor initialized with a specific array, the torch tensor always creates a copy of the data\n",
        "# torch.Tensor() contains torch.tensor() and torch.empty()\n",
        "tensor_arr = torch.tensor([[1, 2, 3], [4, 5, 6]])\n",
        "print(f'Is tensor_arr a tensor? {torch.is_tensor(tensor_arr)}, and how it looks like. {tensor_arr}')"
      ],
      "execution_count": 8,
      "outputs": [
        {
          "output_type": "stream",
          "text": [
            "Is tensor_arr a tensor? True, and how it looks like. tensor([[1, 2, 3],\n",
            "        [4, 5, 6]])\n"
          ],
          "name": "stdout"
        }
      ]
    },
    {
      "cell_type": "code",
      "metadata": {
        "id": "DB_HDBfDRbEf",
        "colab_type": "code",
        "colab": {
          "base_uri": "https://localhost:8080/",
          "height": 34
        },
        "outputId": "7b775b50-346b-4a28-ddd3-24cd9aaa7aaa"
      },
      "source": [
        "torch.numel(tensor_arr) # to return the number of elements in a tensor"
      ],
      "execution_count": 9,
      "outputs": [
        {
          "output_type": "execute_result",
          "data": {
            "text/plain": [
              "6"
            ]
          },
          "metadata": {
            "tags": []
          },
          "execution_count": 9
        }
      ]
    },
    {
      "cell_type": "code",
      "metadata": {
        "id": "QSa355nrR5Hi",
        "colab_type": "code",
        "colab": {
          "base_uri": "https://localhost:8080/",
          "height": 51
        },
        "outputId": "0378e735-bc2f-44da-ca5a-ffca78fe3a3c"
      },
      "source": [
        "# An un-initialized Tensor of shape 2*2 allocated space in memory\n",
        "# tensor_uninitialized = torch.tensor(2, 2) return error\n",
        "tensor_uninitialized = torch.Tensor(2, 2) # randomly generated number\n",
        "tensor_uninitialized"
      ],
      "execution_count": 11,
      "outputs": [
        {
          "output_type": "execute_result",
          "data": {
            "text/plain": [
              "tensor([[ 3.4150e-316,  1.3340e-322],\n",
              "        [-3.3846e+125,   1.4917e+20]])"
            ]
          },
          "metadata": {
            "tags": []
          },
          "execution_count": 11
        }
      ]
    },
    {
      "cell_type": "code",
      "metadata": {
        "id": "SizGBYp4SsQJ",
        "colab_type": "code",
        "colab": {
          "base_uri": "https://localhost:8080/",
          "height": 51
        },
        "outputId": "f1823e9b-42d4-4b60-afa1-890e81b27da6"
      },
      "source": [
        "# A tensor of size 2*2 initialized with random values\n",
        "tensor_initialized = torch.rand(2, 2)\n",
        "tensor_initialized"
      ],
      "execution_count": 12,
      "outputs": [
        {
          "output_type": "execute_result",
          "data": {
            "text/plain": [
              "tensor([[0.1953, 0.0434],\n",
              "        [0.2935, 0.0937]])"
            ]
          },
          "metadata": {
            "tags": []
          },
          "execution_count": 12
        }
      ]
    },
    {
      "cell_type": "code",
      "metadata": {
        "id": "IVyATsHeTIz6",
        "colab_type": "code",
        "colab": {
          "base_uri": "https://localhost:8080/",
          "height": 34
        },
        "outputId": "fbd010b3-fd14-4346-871f-c78ad5d74430"
      },
      "source": [
        "# Tensors can be set to have specific data types\n",
        "tensor_int = torch.tensor([5, 3]).type(torch.IntTensor)\n",
        "tensor_int"
      ],
      "execution_count": 13,
      "outputs": [
        {
          "output_type": "execute_result",
          "data": {
            "text/plain": [
              "tensor([5, 3], dtype=torch.int32)"
            ]
          },
          "metadata": {
            "tags": []
          },
          "execution_count": 13
        }
      ]
    },
    {
      "cell_type": "code",
      "metadata": {
        "id": "x-2xYNZ8Td4O",
        "colab_type": "code",
        "colab": {
          "base_uri": "https://localhost:8080/",
          "height": 34
        },
        "outputId": "f507d238-0945-42c3-cf5d-fde0bcb8fe09"
      },
      "source": [
        "# A Tensor of type short\n",
        "tensor_short = torch.ShortTensor([1.0, 2.0, 3.0])\n",
        "tensor_short"
      ],
      "execution_count": 14,
      "outputs": [
        {
          "output_type": "execute_result",
          "data": {
            "text/plain": [
              "tensor([1, 2, 3], dtype=torch.int16)"
            ]
          },
          "metadata": {
            "tags": []
          },
          "execution_count": 14
        }
      ]
    },
    {
      "cell_type": "code",
      "metadata": {
        "id": "bg967kErU1Cp",
        "colab_type": "code",
        "colab": {
          "base_uri": "https://localhost:8080/",
          "height": 34
        },
        "outputId": "9100ce16-5069-466e-aa5a-01ebbcb996ad"
      },
      "source": [
        "# A Tensor of type float half\n",
        "tensor_float = torch.tensor([1.0, 2.0, 3.0]).type(torch.half)\n",
        "tensor_float"
      ],
      "execution_count": 15,
      "outputs": [
        {
          "output_type": "execute_result",
          "data": {
            "text/plain": [
              "tensor([1., 2., 3.], dtype=torch.float16)"
            ]
          },
          "metadata": {
            "tags": []
          },
          "execution_count": 15
        }
      ]
    },
    {
      "cell_type": "code",
      "metadata": {
        "id": "eQEYS4tYVEV2",
        "colab_type": "code",
        "colab": {
          "base_uri": "https://localhost:8080/",
          "height": 51
        },
        "outputId": "4b567e59-3365-48e7-ca60-2dcf3a3bac94"
      },
      "source": [
        "# A tensor filled with a specific values\n",
        "tensor_fill = torch.full((2, 6), fill_value=10)\n",
        "tensor_fill"
      ],
      "execution_count": 16,
      "outputs": [
        {
          "output_type": "execute_result",
          "data": {
            "text/plain": [
              "tensor([[10., 10., 10., 10., 10., 10.],\n",
              "        [10., 10., 10., 10., 10., 10.]])"
            ]
          },
          "metadata": {
            "tags": []
          },
          "execution_count": 16
        }
      ]
    },
    {
      "cell_type": "code",
      "metadata": {
        "id": "7kiTPJJMV_Tk",
        "colab_type": "code",
        "colab": {
          "base_uri": "https://localhost:8080/",
          "height": 51
        },
        "outputId": "4c34ddfd-8e7f-45c4-8628-e1ca76e4e96b"
      },
      "source": [
        "# A tensor of size (2, 4) containing all ones\n",
        "tensor_of_ones = torch.ones([2, 4], dtype=torch.int32)\n",
        "tensor_of_ones"
      ],
      "execution_count": 17,
      "outputs": [
        {
          "output_type": "execute_result",
          "data": {
            "text/plain": [
              "tensor([[1, 1, 1, 1],\n",
              "        [1, 1, 1, 1]], dtype=torch.int32)"
            ]
          },
          "metadata": {
            "tags": []
          },
          "execution_count": 17
        }
      ]
    },
    {
      "cell_type": "code",
      "metadata": {
        "id": "QOiY0nFfWWDM",
        "colab_type": "code",
        "colab": {
          "base_uri": "https://localhost:8080/",
          "height": 51
        },
        "outputId": "1949ee81-6579-4b16-c51b-8e84150f3057"
      },
      "source": [
        "# A tensor of size (2, 4) like tensor_of_ones containing all zeros\n",
        "tensors_of_zeroes = torch.zeros_like(tensor_of_ones)\n",
        "tensors_of_zeroes"
      ],
      "execution_count": 18,
      "outputs": [
        {
          "output_type": "execute_result",
          "data": {
            "text/plain": [
              "tensor([[0, 0, 0, 0],\n",
              "        [0, 0, 0, 0]], dtype=torch.int32)"
            ]
          },
          "metadata": {
            "tags": []
          },
          "execution_count": 18
        }
      ]
    },
    {
      "cell_type": "code",
      "metadata": {
        "id": "eR_B4zuZWknh",
        "colab_type": "code",
        "colab": {
          "base_uri": "https://localhost:8080/",
          "height": 102
        },
        "outputId": "68bcafe9-fa4b-4191-ff3f-8f36e1a6e7ee"
      },
      "source": [
        "# Create an identity 5*5 tensor\n",
        "tensor_eye = torch.eye(5)\n",
        "tensor_eye"
      ],
      "execution_count": 19,
      "outputs": [
        {
          "output_type": "execute_result",
          "data": {
            "text/plain": [
              "tensor([[1., 0., 0., 0., 0.],\n",
              "        [0., 1., 0., 0., 0.],\n",
              "        [0., 0., 1., 0., 0.],\n",
              "        [0., 0., 0., 1., 0.],\n",
              "        [0., 0., 0., 0., 1.]])"
            ]
          },
          "metadata": {
            "tags": []
          },
          "execution_count": 19
        }
      ]
    },
    {
      "cell_type": "code",
      "metadata": {
        "id": "RElKzRYeWzSW",
        "colab_type": "code",
        "colab": {
          "base_uri": "https://localhost:8080/",
          "height": 102
        },
        "outputId": "ba6edba9-585b-4d36-f47b-fbe9e6c4a349"
      },
      "source": [
        "# Get the list of indices of non-zero elements in a tensor\n",
        "non_zero = torch.nonzero(tensor_eye)\n",
        "non_zero"
      ],
      "execution_count": 20,
      "outputs": [
        {
          "output_type": "execute_result",
          "data": {
            "text/plain": [
              "tensor([[0, 0],\n",
              "        [1, 1],\n",
              "        [2, 2],\n",
              "        [3, 3],\n",
              "        [4, 4]])"
            ]
          },
          "metadata": {
            "tags": []
          },
          "execution_count": 20
        }
      ]
    },
    {
      "cell_type": "code",
      "metadata": {
        "id": "iyCOwfm4XAoW",
        "colab_type": "code",
        "colab": {
          "base_uri": "https://localhost:8080/",
          "height": 85
        },
        "outputId": "a5af5b55-0b9e-4e32-b917-ba932ae62d57"
      },
      "source": [
        "# Create a sparse tensor using coordinates specified by indices and values\n",
        "i = torch.tensor([\n",
        "                  [0, 1, 1],\n",
        "                  [2, 2, 0]\n",
        "])\n",
        "v = torch.tensor([3, 4, 5], dtype=torch.float32)\n",
        "sparse_tensor = torch.sparse_coo_tensor(i, v, [2, 5])\n",
        "sparse_tensor.data"
      ],
      "execution_count": 22,
      "outputs": [
        {
          "output_type": "execute_result",
          "data": {
            "text/plain": [
              "tensor(indices=tensor([[0, 1, 1],\n",
              "                       [2, 2, 0]]),\n",
              "       values=tensor([3., 4., 5.]),\n",
              "       size=(2, 5), nnz=3, dtype=torch.float32, layout=torch.sparse_coo)"
            ]
          },
          "metadata": {
            "tags": []
          },
          "execution_count": 22
        }
      ]
    },
    {
      "cell_type": "code",
      "metadata": {
        "id": "q9wyRpq3Xf8F",
        "colab_type": "code",
        "colab": {
          "base_uri": "https://localhost:8080/",
          "height": 51
        },
        "outputId": "420ed996-1967-4af1-94f3-2f204e67171f"
      },
      "source": [
        "print(sparse_tensor.to_dense())"
      ],
      "execution_count": 24,
      "outputs": [
        {
          "output_type": "stream",
          "text": [
            "tensor([[0., 0., 3., 0., 0.],\n",
            "        [5., 0., 4., 0., 0.]], dtype=torch.float32)\n"
          ],
          "name": "stdout"
        }
      ]
    },
    {
      "cell_type": "markdown",
      "metadata": {
        "id": "rG-R5NCjZVE0",
        "colab_type": "text"
      },
      "source": [
        "##1.2. Inplace / Out-of-place\n",
        "\n",
        "The first difference is taht ALL operations on the tensor that operate in-place on it will have an \"\\_\" postfix. For example, add is the out-of-place version, and add_ is the in-place version"
      ]
    },
    {
      "cell_type": "code",
      "metadata": {
        "id": "jzw-C12jZb0c",
        "colab_type": "code",
        "colab": {
          "base_uri": "https://localhost:8080/",
          "height": 51
        },
        "outputId": "df3449f9-b862-4fe2-da1a-3bc74e60ee88"
      },
      "source": [
        "initial_tensor = torch.rand(2, 3)\n",
        "initial_tensor"
      ],
      "execution_count": 25,
      "outputs": [
        {
          "output_type": "execute_result",
          "data": {
            "text/plain": [
              "tensor([[0.3831, 0.2636, 0.0816],\n",
              "        [0.1635, 0.7639, 0.8437]])"
            ]
          },
          "metadata": {
            "tags": []
          },
          "execution_count": 25
        }
      ]
    },
    {
      "cell_type": "code",
      "metadata": {
        "id": "G_a-Gf-VaWA_",
        "colab_type": "code",
        "colab": {
          "base_uri": "https://localhost:8080/",
          "height": 51
        },
        "outputId": "27a0eebc-1f6c-407c-80c9-6490384900ee"
      },
      "source": [
        "initial_tensor.fill_(10)"
      ],
      "execution_count": 26,
      "outputs": [
        {
          "output_type": "execute_result",
          "data": {
            "text/plain": [
              "tensor([[10., 10., 10.],\n",
              "        [10., 10., 10.]])"
            ]
          },
          "metadata": {
            "tags": []
          },
          "execution_count": 26
        }
      ]
    },
    {
      "cell_type": "code",
      "metadata": {
        "id": "vcpyi652aeCF",
        "colab_type": "code",
        "colab": {
          "base_uri": "https://localhost:8080/",
          "height": 163
        },
        "outputId": "0dbd04e9-7034-460c-eee4-77aa9bec6624"
      },
      "source": [
        "initial_tensor.fill(10)"
      ],
      "execution_count": 27,
      "outputs": [
        {
          "output_type": "error",
          "ename": "AttributeError",
          "evalue": "ignored",
          "traceback": [
            "\u001b[0;31m---------------------------------------------------------------------------\u001b[0m",
            "\u001b[0;31mAttributeError\u001b[0m                            Traceback (most recent call last)",
            "\u001b[0;32m<ipython-input-27-c4ca7a2525cd>\u001b[0m in \u001b[0;36m<module>\u001b[0;34m()\u001b[0m\n\u001b[0;32m----> 1\u001b[0;31m \u001b[0minitial_tensor\u001b[0m\u001b[0;34m.\u001b[0m\u001b[0mfill\u001b[0m\u001b[0;34m(\u001b[0m\u001b[0;36m10\u001b[0m\u001b[0;34m)\u001b[0m\u001b[0;34m\u001b[0m\u001b[0;34m\u001b[0m\u001b[0m\n\u001b[0m",
            "\u001b[0;31mAttributeError\u001b[0m: 'Tensor' object has no attribute 'fill'"
          ]
        }
      ]
    },
    {
      "cell_type": "code",
      "metadata": {
        "id": "sKpLYz-SagKL",
        "colab_type": "code",
        "colab": {
          "base_uri": "https://localhost:8080/",
          "height": 68
        },
        "outputId": "76e7e98f-8efd-4de0-da2e-ef1225c54e26"
      },
      "source": [
        "# the add() method does an out-of-place add operation and returns a new tensor\n",
        "new_tensor = initial_tensor.add(5)\n",
        "print(new_tensor, initial_tensor)"
      ],
      "execution_count": 28,
      "outputs": [
        {
          "output_type": "stream",
          "text": [
            "tensor([[15., 15., 15.],\n",
            "        [15., 15., 15.]]) tensor([[10., 10., 10.],\n",
            "        [10., 10., 10.]])\n"
          ],
          "name": "stdout"
        }
      ]
    },
    {
      "cell_type": "code",
      "metadata": {
        "id": "k6WiOVD7a8Kk",
        "colab_type": "code",
        "colab": {
          "base_uri": "https://localhost:8080/",
          "height": 51
        },
        "outputId": "560d94e8-e3b0-431f-9e74-93eafeac4efc"
      },
      "source": [
        "# the add_() method does an in-place add, changing the calling tensor\n",
        "initial_tensor.add_(8)\n",
        "print(initial_tensor)"
      ],
      "execution_count": 29,
      "outputs": [
        {
          "output_type": "stream",
          "text": [
            "tensor([[18., 18., 18.],\n",
            "        [18., 18., 18.]])\n"
          ],
          "name": "stdout"
        }
      ]
    },
    {
      "cell_type": "code",
      "metadata": {
        "id": "_mY7YhIDbFIl",
        "colab_type": "code",
        "colab": {
          "base_uri": "https://localhost:8080/",
          "height": 51
        },
        "outputId": "24637502-49f7-44a2-df1c-9a3f262a3132"
      },
      "source": [
        "# the new_tensor was a separate copy and is unaffected\n",
        "new_tensor"
      ],
      "execution_count": 30,
      "outputs": [
        {
          "output_type": "execute_result",
          "data": {
            "text/plain": [
              "tensor([[15., 15., 15.],\n",
              "        [15., 15., 15.]])"
            ]
          },
          "metadata": {
            "tags": []
          },
          "execution_count": 30
        }
      ]
    },
    {
      "cell_type": "code",
      "metadata": {
        "id": "I7zT9VClbNoX",
        "colab_type": "code",
        "colab": {
          "base_uri": "https://localhost:8080/",
          "height": 51
        },
        "outputId": "c8ccb151-9262-4371-c996-def81260e673"
      },
      "source": [
        "# in-palce version of sqrt()\n",
        "new_tensor.sqrt_()\n",
        "new_tensor"
      ],
      "execution_count": 31,
      "outputs": [
        {
          "output_type": "execute_result",
          "data": {
            "text/plain": [
              "tensor([[3.8730, 3.8730, 3.8730],\n",
              "        [3.8730, 3.8730, 3.8730]])"
            ]
          },
          "metadata": {
            "tags": []
          },
          "execution_count": 31
        }
      ]
    },
    {
      "cell_type": "markdown",
      "metadata": {
        "id": "jGo1GNG9bW1p",
        "colab_type": "text"
      },
      "source": [
        "##1.3. Indexing, Slicing, Joining, Mutating Ops"
      ]
    },
    {
      "cell_type": "code",
      "metadata": {
        "id": "VYZPXnwxbShf",
        "colab_type": "code",
        "colab": {
          "base_uri": "https://localhost:8080/",
          "height": 51
        },
        "outputId": "04a99666-e4c4-464b-f22d-66cdfb461ba2"
      },
      "source": [
        "# Slicing\n",
        "x = torch.linspace(start=0.1, end=1.0, steps=15)\n",
        "x"
      ],
      "execution_count": 32,
      "outputs": [
        {
          "output_type": "execute_result",
          "data": {
            "text/plain": [
              "tensor([0.1000, 0.1643, 0.2286, 0.2929, 0.3571, 0.4214, 0.4857, 0.5500, 0.6143,\n",
              "        0.6786, 0.7429, 0.8071, 0.8714, 0.9357, 1.0000])"
            ]
          },
          "metadata": {
            "tags": []
          },
          "execution_count": 32
        }
      ]
    },
    {
      "cell_type": "code",
      "metadata": {
        "id": "perI21OZbkqA",
        "colab_type": "code",
        "colab": {
          "base_uri": "https://localhost:8080/",
          "height": 68
        },
        "outputId": "f3dd5d16-1338-4599-f896-c70c0113f6ca"
      },
      "source": [
        "# Splits a tensor into a specific number of chunks\n",
        "tensor_chunk =  torch.chunk(input=x, chunks=3, dim=0)\n",
        "tensor_chunk"
      ],
      "execution_count": 34,
      "outputs": [
        {
          "output_type": "execute_result",
          "data": {
            "text/plain": [
              "(tensor([0.1000, 0.1643, 0.2286, 0.2929, 0.3571]),\n",
              " tensor([0.4214, 0.4857, 0.5500, 0.6143, 0.6786]),\n",
              " tensor([0.7429, 0.8071, 0.8714, 0.9357, 1.0000]))"
            ]
          },
          "metadata": {
            "tags": []
          },
          "execution_count": 34
        }
      ]
    },
    {
      "cell_type": "code",
      "metadata": {
        "id": "LBnnIJC2bzcs",
        "colab_type": "code",
        "colab": {
          "base_uri": "https://localhost:8080/",
          "height": 68
        },
        "outputId": "a1addb30-5728-41f2-9841-357bdfb079ed"
      },
      "source": [
        "tensor_chunk =  torch.chunk(input=x, chunks=3, dim=-1)\n",
        "tensor_chunk"
      ],
      "execution_count": 36,
      "outputs": [
        {
          "output_type": "execute_result",
          "data": {
            "text/plain": [
              "(tensor([0.1000, 0.1643, 0.2286, 0.2929, 0.3571]),\n",
              " tensor([0.4214, 0.4857, 0.5500, 0.6143, 0.6786]),\n",
              " tensor([0.7429, 0.8071, 0.8714, 0.9357, 1.0000]))"
            ]
          },
          "metadata": {
            "tags": []
          },
          "execution_count": 36
        }
      ]
    },
    {
      "cell_type": "code",
      "metadata": {
        "id": "Ufj95zHwb7UF",
        "colab_type": "code",
        "colab": {
          "base_uri": "https://localhost:8080/",
          "height": 51
        },
        "outputId": "950184eb-a62f-4eec-e64f-b06f58398cf5"
      },
      "source": [
        "# Concatenates the sequence of tensors along the given dimension\n",
        "tensor1 = tensor_chunk[0]\n",
        "tensor2 = tensor_chunk[1]\n",
        "tensor3 = torch.tensor([3.0, 4.0, 5.0])\n",
        "torch.cat((tensor1, tensor2, tensor3), dim=0)"
      ],
      "execution_count": 37,
      "outputs": [
        {
          "output_type": "execute_result",
          "data": {
            "text/plain": [
              "tensor([0.1000, 0.1643, 0.2286, 0.2929, 0.3571, 0.4214, 0.4857, 0.5500, 0.6143,\n",
              "        0.6786, 3.0000, 4.0000, 5.0000])"
            ]
          },
          "metadata": {
            "tags": []
          },
          "execution_count": 37
        }
      ]
    },
    {
      "cell_type": "code",
      "metadata": {
        "id": "cPhzMcWXcj9Y",
        "colab_type": "code",
        "colab": {
          "base_uri": "https://localhost:8080/",
          "height": 68
        },
        "outputId": "c1f363b4-7c4b-450d-fc95-c5ffe33ab14e"
      },
      "source": [
        "random_tensor = torch.tensor([\n",
        "                              [10, 8, 30],\n",
        "                              [40, 5, 6],\n",
        "                              [12, 2, 21]\n",
        "])\n",
        "random_tensor"
      ],
      "execution_count": 39,
      "outputs": [
        {
          "output_type": "execute_result",
          "data": {
            "text/plain": [
              "tensor([[10,  8, 30],\n",
              "        [40,  5,  6],\n",
              "        [12,  2, 21]])"
            ]
          },
          "metadata": {
            "tags": []
          },
          "execution_count": 39
        }
      ]
    },
    {
      "cell_type": "code",
      "metadata": {
        "id": "mJU_7QTFco1a",
        "colab_type": "code",
        "colab": {
          "base_uri": "https://localhost:8080/",
          "height": 34
        },
        "outputId": "145aaa79-aaec-4ac9-d5b5-fcf2a20ff79d"
      },
      "source": [
        "random_tensor[0, 1]"
      ],
      "execution_count": 40,
      "outputs": [
        {
          "output_type": "execute_result",
          "data": {
            "text/plain": [
              "tensor(8)"
            ]
          },
          "metadata": {
            "tags": []
          },
          "execution_count": 40
        }
      ]
    },
    {
      "cell_type": "code",
      "metadata": {
        "id": "ldzb1wTjc7ye",
        "colab_type": "code",
        "colab": {
          "base_uri": "https://localhost:8080/",
          "height": 51
        },
        "outputId": "fdb125f3-3430-48d8-816a-b9088237ee99"
      },
      "source": [
        "random_tensor[1:, 1:]"
      ],
      "execution_count": 41,
      "outputs": [
        {
          "output_type": "execute_result",
          "data": {
            "text/plain": [
              "tensor([[ 5,  6],\n",
              "        [ 2, 21]])"
            ]
          },
          "metadata": {
            "tags": []
          },
          "execution_count": 41
        }
      ]
    },
    {
      "cell_type": "code",
      "metadata": {
        "id": "iUpfN0M6dAlY",
        "colab_type": "code",
        "colab": {
          "base_uri": "https://localhost:8080/",
          "height": 68
        },
        "outputId": "d6cad62b-2d96-4915-f893-35cbd6dd2f24"
      },
      "source": [
        "# Splits the tensor into chunks\n",
        "print(random_tensor.shape)\n",
        "random_tensor_split = torch.split(random_tensor, 2, dim=0)\n",
        "random_tensor_split"
      ],
      "execution_count": 52,
      "outputs": [
        {
          "output_type": "stream",
          "text": [
            "torch.Size([3, 3])\n"
          ],
          "name": "stdout"
        },
        {
          "output_type": "execute_result",
          "data": {
            "text/plain": [
              "(tensor([[10,  8, 30],\n",
              "         [40,  5,  6]]), tensor([[12,  2, 21]]))"
            ]
          },
          "metadata": {
            "tags": []
          },
          "execution_count": 52
        }
      ]
    },
    {
      "cell_type": "code",
      "metadata": {
        "id": "kD8GYqKndSqo",
        "colab_type": "code",
        "colab": {
          "base_uri": "https://localhost:8080/",
          "height": 102
        },
        "outputId": "d56cb57c-9439-426a-c7a9-299d63079262"
      },
      "source": [
        "random_tensor_split = torch.split(random_tensor, 2, dim=1)\n",
        "random_tensor_split"
      ],
      "execution_count": 53,
      "outputs": [
        {
          "output_type": "execute_result",
          "data": {
            "text/plain": [
              "(tensor([[10,  8],\n",
              "         [40,  5],\n",
              "         [12,  2]]), tensor([[30],\n",
              "         [ 6],\n",
              "         [21]]))"
            ]
          },
          "metadata": {
            "tags": []
          },
          "execution_count": 53
        }
      ]
    },
    {
      "cell_type": "code",
      "metadata": {
        "id": "7PpnHBOqddYb",
        "colab_type": "code",
        "colab": {
          "base_uri": "https://localhost:8080/",
          "height": 34
        },
        "outputId": "f8cc6f41-b52f-4348-e2f7-fd5ab93bb1ec"
      },
      "source": [
        "# View\n",
        "random_tensor.size()"
      ],
      "execution_count": 54,
      "outputs": [
        {
          "output_type": "execute_result",
          "data": {
            "text/plain": [
              "torch.Size([3, 3])"
            ]
          },
          "metadata": {
            "tags": []
          },
          "execution_count": 54
        }
      ]
    },
    {
      "cell_type": "code",
      "metadata": {
        "id": "4_ytVRe_euSF",
        "colab_type": "code",
        "colab": {
          "base_uri": "https://localhost:8080/",
          "height": 34
        },
        "outputId": "924a90e5-7245-4342-ddf7-507f04f4aeaa"
      },
      "source": [
        "resized_tensor = random_tensor.view(9)\n",
        "resized_tensor"
      ],
      "execution_count": 65,
      "outputs": [
        {
          "output_type": "execute_result",
          "data": {
            "text/plain": [
              "tensor([ 10,   8,  30,  40,   5,   6,  12,   2, 100])"
            ]
          },
          "metadata": {
            "tags": []
          },
          "execution_count": 65
        }
      ]
    },
    {
      "cell_type": "code",
      "metadata": {
        "id": "FSgs3NQue1qJ",
        "colab_type": "code",
        "colab": {
          "base_uri": "https://localhost:8080/",
          "height": 68
        },
        "outputId": "af8635be-87d2-4619-b3b8-e5db49236568"
      },
      "source": [
        "resized_tensor = random_tensor.view(3, 3)\n",
        "resized_tensor"
      ],
      "execution_count": 58,
      "outputs": [
        {
          "output_type": "execute_result",
          "data": {
            "text/plain": [
              "tensor([[10,  8, 30],\n",
              "        [40,  5,  6],\n",
              "        [12,  2, 21]])"
            ]
          },
          "metadata": {
            "tags": []
          },
          "execution_count": 58
        }
      ]
    },
    {
      "cell_type": "code",
      "metadata": {
        "id": "HkRdK2Vze6CG",
        "colab_type": "code",
        "colab": {
          "base_uri": "https://localhost:8080/",
          "height": 170
        },
        "outputId": "890619f1-7b24-4bae-a3d5-68a746711826"
      },
      "source": [
        "resized_tensor = random_tensor.view(9, 1)\n",
        "resized_tensor"
      ],
      "execution_count": 59,
      "outputs": [
        {
          "output_type": "execute_result",
          "data": {
            "text/plain": [
              "tensor([[10],\n",
              "        [ 8],\n",
              "        [30],\n",
              "        [40],\n",
              "        [ 5],\n",
              "        [ 6],\n",
              "        [12],\n",
              "        [ 2],\n",
              "        [21]])"
            ]
          },
          "metadata": {
            "tags": []
          },
          "execution_count": 59
        }
      ]
    },
    {
      "cell_type": "code",
      "metadata": {
        "id": "e_brDSp-fD1c",
        "colab_type": "code",
        "colab": {
          "base_uri": "https://localhost:8080/",
          "height": 34
        },
        "outputId": "d2462db6-1edc-4b9b-fb27-2756a2059cbf"
      },
      "source": [
        "resized_tensor.size()"
      ],
      "execution_count": 60,
      "outputs": [
        {
          "output_type": "execute_result",
          "data": {
            "text/plain": [
              "torch.Size([9, 1])"
            ]
          },
          "metadata": {
            "tags": []
          },
          "execution_count": 60
        }
      ]
    },
    {
      "cell_type": "code",
      "metadata": {
        "id": "reFCn23HfJKL",
        "colab_type": "code",
        "colab": {
          "base_uri": "https://localhost:8080/",
          "height": 34
        },
        "outputId": "0ecf4482-e0c1-432b-fcb2-ec27216b81a4"
      },
      "source": [
        "random_tensor[2, 2] = 100.0\n",
        "resized_tensor"
      ],
      "execution_count": 68,
      "outputs": [
        {
          "output_type": "execute_result",
          "data": {
            "text/plain": [
              "tensor([ 10,   8,  30,  40,   5,   6,  12,   2, 100])"
            ]
          },
          "metadata": {
            "tags": []
          },
          "execution_count": 68
        }
      ]
    },
    {
      "cell_type": "code",
      "metadata": {
        "id": "-JaSyNkjfToN",
        "colab_type": "code",
        "colab": {
          "base_uri": "https://localhost:8080/",
          "height": 68
        },
        "outputId": "b660ff81-de5d-43fd-86ca-6b1a1eb67e84"
      },
      "source": [
        "# Unsqueeze: returns a new tensor with a dimension of size one inserted at the specified position\n",
        "random_tensor"
      ],
      "execution_count": 69,
      "outputs": [
        {
          "output_type": "execute_result",
          "data": {
            "text/plain": [
              "tensor([[ 10,   8,  30],\n",
              "        [ 40,   5,   6],\n",
              "        [ 12,   2, 100]])"
            ]
          },
          "metadata": {
            "tags": []
          },
          "execution_count": 69
        }
      ]
    },
    {
      "cell_type": "code",
      "metadata": {
        "id": "3c_R0LqvfcY3",
        "colab_type": "code",
        "colab": {
          "base_uri": "https://localhost:8080/",
          "height": 34
        },
        "outputId": "a973f021-15e4-44a0-aecc-c28cae13b8a7"
      },
      "source": [
        "random_tensor.shape"
      ],
      "execution_count": 70,
      "outputs": [
        {
          "output_type": "execute_result",
          "data": {
            "text/plain": [
              "torch.Size([3, 3])"
            ]
          },
          "metadata": {
            "tags": []
          },
          "execution_count": 70
        }
      ]
    },
    {
      "cell_type": "code",
      "metadata": {
        "id": "OTPMkX0sffCG",
        "colab_type": "code",
        "colab": {
          "base_uri": "https://localhost:8080/",
          "height": 204
        },
        "outputId": "60165722-c514-44f5-f62e-6d09844522f7"
      },
      "source": [
        "tensor_unsqueeze = torch.unsqueeze(random_tensor, 2)\n",
        "tensor_unsqueeze"
      ],
      "execution_count": 71,
      "outputs": [
        {
          "output_type": "execute_result",
          "data": {
            "text/plain": [
              "tensor([[[ 10],\n",
              "         [  8],\n",
              "         [ 30]],\n",
              "\n",
              "        [[ 40],\n",
              "         [  5],\n",
              "         [  6]],\n",
              "\n",
              "        [[ 12],\n",
              "         [  2],\n",
              "         [100]]])"
            ]
          },
          "metadata": {
            "tags": []
          },
          "execution_count": 71
        }
      ]
    },
    {
      "cell_type": "code",
      "metadata": {
        "id": "LFrqw2tEfnVu",
        "colab_type": "code",
        "colab": {
          "base_uri": "https://localhost:8080/",
          "height": 34
        },
        "outputId": "718269d3-2488-43f2-c6b8-a775e0b0078f"
      },
      "source": [
        "tensor_unsqueeze.shape"
      ],
      "execution_count": 72,
      "outputs": [
        {
          "output_type": "execute_result",
          "data": {
            "text/plain": [
              "torch.Size([3, 3, 1])"
            ]
          },
          "metadata": {
            "tags": []
          },
          "execution_count": 72
        }
      ]
    },
    {
      "cell_type": "code",
      "metadata": {
        "id": "bcqHhpqjfy8s",
        "colab_type": "code",
        "colab": {
          "base_uri": "https://localhost:8080/",
          "height": 51
        },
        "outputId": "2920eba6-e379-4a73-f366-96c9ffd7d4e2"
      },
      "source": [
        "# Transpose: Return a tensor that is a transposed version of input. \n",
        "# The given dimensions dim0 and dim1 are swapped.\n",
        "initial_tensor"
      ],
      "execution_count": 73,
      "outputs": [
        {
          "output_type": "execute_result",
          "data": {
            "text/plain": [
              "tensor([[18., 18., 18.],\n",
              "        [18., 18., 18.]])"
            ]
          },
          "metadata": {
            "tags": []
          },
          "execution_count": 73
        }
      ]
    },
    {
      "cell_type": "code",
      "metadata": {
        "id": "BYARzHm_f-lW",
        "colab_type": "code",
        "colab": {
          "base_uri": "https://localhost:8080/",
          "height": 68
        },
        "outputId": "16481d76-850c-4b52-c1dc-0bfa5fee04a8"
      },
      "source": [
        "tensor_transpose = torch.transpose(initial_tensor, dim0=0, dim1=1)\n",
        "tensor_transpose"
      ],
      "execution_count": 75,
      "outputs": [
        {
          "output_type": "execute_result",
          "data": {
            "text/plain": [
              "tensor([[18., 18.],\n",
              "        [18., 18.],\n",
              "        [18., 18.]])"
            ]
          },
          "metadata": {
            "tags": []
          },
          "execution_count": 75
        }
      ]
    },
    {
      "cell_type": "code",
      "metadata": {
        "id": "9bRIdJrSgESl",
        "colab_type": "code",
        "colab": {
          "base_uri": "https://localhost:8080/",
          "height": 68
        },
        "outputId": "2ab37806-89bc-4134-a78f-504886c68153"
      },
      "source": [
        "# Sorting Tensors\n",
        "# Tensors can be sorted along a specified dimension. If no dimension is specified, \n",
        "# the last dimension is picked by default.\n",
        "random_tensor"
      ],
      "execution_count": 76,
      "outputs": [
        {
          "output_type": "execute_result",
          "data": {
            "text/plain": [
              "tensor([[ 10,   8,  30],\n",
              "        [ 40,   5,   6],\n",
              "        [ 12,   2, 100]])"
            ]
          },
          "metadata": {
            "tags": []
          },
          "execution_count": 76
        }
      ]
    },
    {
      "cell_type": "code",
      "metadata": {
        "id": "91rqI8NIgYug",
        "colab_type": "code",
        "colab": {
          "base_uri": "https://localhost:8080/",
          "height": 68
        },
        "outputId": "4caa274d-ce3a-4e0c-c7a9-b95abc59021b"
      },
      "source": [
        "sorted_tensor, sorted_indices = torch.sort(random_tensor)\n",
        "sorted_tensor"
      ],
      "execution_count": 77,
      "outputs": [
        {
          "output_type": "execute_result",
          "data": {
            "text/plain": [
              "tensor([[  8,  10,  30],\n",
              "        [  5,   6,  40],\n",
              "        [  2,  12, 100]])"
            ]
          },
          "metadata": {
            "tags": []
          },
          "execution_count": 77
        }
      ]
    },
    {
      "cell_type": "code",
      "metadata": {
        "id": "HqeYnfRegej0",
        "colab_type": "code",
        "colab": {
          "base_uri": "https://localhost:8080/",
          "height": 68
        },
        "outputId": "1ea69de0-2426-42ab-f1c6-767e783da0ec"
      },
      "source": [
        "sorted_indices"
      ],
      "execution_count": 78,
      "outputs": [
        {
          "output_type": "execute_result",
          "data": {
            "text/plain": [
              "tensor([[1, 0, 2],\n",
              "        [1, 2, 0],\n",
              "        [1, 0, 2]])"
            ]
          },
          "metadata": {
            "tags": []
          },
          "execution_count": 78
        }
      ]
    },
    {
      "cell_type": "markdown",
      "metadata": {
        "id": "UHlzXljwghCZ",
        "colab_type": "text"
      },
      "source": [
        "##1.4. Math Operations"
      ]
    },
    {
      "cell_type": "code",
      "metadata": {
        "id": "B5p2aCqvgfyH",
        "colab_type": "code",
        "colab": {
          "base_uri": "https://localhost:8080/",
          "height": 34
        },
        "outputId": "33f6fa06-3f98-4c41-fbd2-d68b35d55383"
      },
      "source": [
        "tensor_float = torch.FloatTensor([-1.1, -2.2, 3.3])\n",
        "tensor_float"
      ],
      "execution_count": 79,
      "outputs": [
        {
          "output_type": "execute_result",
          "data": {
            "text/plain": [
              "tensor([-1.1000, -2.2000,  3.3000], dtype=torch.float32)"
            ]
          },
          "metadata": {
            "tags": []
          },
          "execution_count": 79
        }
      ]
    },
    {
      "cell_type": "code",
      "metadata": {
        "id": "bj573FBjg3pP",
        "colab_type": "code",
        "colab": {
          "base_uri": "https://localhost:8080/",
          "height": 34
        },
        "outputId": "b5732223-364c-45d6-eed3-be58772340e8"
      },
      "source": [
        "# abs\n",
        "tensor_abs = torch.abs(tensor_float)\n",
        "tensor_abs"
      ],
      "execution_count": 80,
      "outputs": [
        {
          "output_type": "execute_result",
          "data": {
            "text/plain": [
              "tensor([1.1000, 2.2000, 3.3000], dtype=torch.float32)"
            ]
          },
          "metadata": {
            "tags": []
          },
          "execution_count": 80
        }
      ]
    },
    {
      "cell_type": "code",
      "metadata": {
        "id": "iZffR0y8g9IU",
        "colab_type": "code",
        "colab": {
          "base_uri": "https://localhost:8080/",
          "height": 51
        },
        "outputId": "1044f91f-f625-4762-caeb-6cc2dd61f5ba"
      },
      "source": [
        "initial_tensor"
      ],
      "execution_count": 81,
      "outputs": [
        {
          "output_type": "execute_result",
          "data": {
            "text/plain": [
              "tensor([[18., 18., 18.],\n",
              "        [18., 18., 18.]])"
            ]
          },
          "metadata": {
            "tags": []
          },
          "execution_count": 81
        }
      ]
    },
    {
      "cell_type": "code",
      "metadata": {
        "id": "Gwj64XqchEcM",
        "colab_type": "code",
        "colab": {
          "base_uri": "https://localhost:8080/",
          "height": 51
        },
        "outputId": "823427b9-2277-4216-a0b9-82a08d7ce1fd"
      },
      "source": [
        "new_tensor = torch.add(initial_tensor, 2)\n",
        "new_tensor"
      ],
      "execution_count": 82,
      "outputs": [
        {
          "output_type": "execute_result",
          "data": {
            "text/plain": [
              "tensor([[20., 20., 20.],\n",
              "        [20., 20., 20.]])"
            ]
          },
          "metadata": {
            "tags": []
          },
          "execution_count": 82
        }
      ]
    },
    {
      "cell_type": "code",
      "metadata": {
        "id": "7ug25j4-hIeS",
        "colab_type": "code",
        "colab": {
          "base_uri": "https://localhost:8080/",
          "height": 51
        },
        "outputId": "6a2b3fcf-861c-4b35-b257-ebd097515350"
      },
      "source": [
        "torch.add(input=initial_tensor, other=10, out=new_tensor)"
      ],
      "execution_count": 83,
      "outputs": [
        {
          "output_type": "execute_result",
          "data": {
            "text/plain": [
              "tensor([[28., 28., 28.],\n",
              "        [28., 28., 28.]])"
            ]
          },
          "metadata": {
            "tags": []
          },
          "execution_count": 83
        }
      ]
    },
    {
      "cell_type": "code",
      "metadata": {
        "id": "4bKbQF1ihRb6",
        "colab_type": "code",
        "colab": {
          "base_uri": "https://localhost:8080/",
          "height": 51
        },
        "outputId": "763472e5-e91e-4dc4-fed7-29d06b50173a"
      },
      "source": [
        "rand1 = torch.abs(torch.randn(2, 3))\n",
        "rand2 = torch.abs(torch.randn(2, 3))\n",
        "add1 = rand1 + rand2\n",
        "add1"
      ],
      "execution_count": 84,
      "outputs": [
        {
          "output_type": "execute_result",
          "data": {
            "text/plain": [
              "tensor([[2.0073, 1.0256, 1.2723],\n",
              "        [1.2679, 0.6658, 0.8845]])"
            ]
          },
          "metadata": {
            "tags": []
          },
          "execution_count": 84
        }
      ]
    },
    {
      "cell_type": "code",
      "metadata": {
        "id": "-N1DzTtRhosU",
        "colab_type": "code",
        "colab": {
          "base_uri": "https://localhost:8080/",
          "height": 51
        },
        "outputId": "31c9d0fc-0c92-41e4-b9b7-94b9af8de209"
      },
      "source": [
        "# Elment-wise division\n",
        "tensor = torch.tensor([\n",
        "                       [-1, -2, -3],\n",
        "                       [1, 2, 3]\n",
        "]).type(torch.float32)\n",
        "tensor_div = torch.div(tensor, tensor + 0.3)\n",
        "tensor_div"
      ],
      "execution_count": 91,
      "outputs": [
        {
          "output_type": "execute_result",
          "data": {
            "text/plain": [
              "tensor([[1.4286, 1.1765, 1.1111],\n",
              "        [0.7692, 0.8696, 0.9091]], dtype=torch.float32)"
            ]
          },
          "metadata": {
            "tags": []
          },
          "execution_count": 91
        }
      ]
    },
    {
      "cell_type": "code",
      "metadata": {
        "id": "3lrQlfE6jOf1",
        "colab_type": "code",
        "colab": {
          "base_uri": "https://localhost:8080/",
          "height": 51
        },
        "outputId": "56f247aa-1444-47e4-faff-f91324b0ecb5"
      },
      "source": [
        "# Element-wise multiplication\n",
        "tensor_mul = torch.mul(tensor, tensor)\n",
        "tensor_mul"
      ],
      "execution_count": 92,
      "outputs": [
        {
          "output_type": "execute_result",
          "data": {
            "text/plain": [
              "tensor([[1., 4., 9.],\n",
              "        [1., 4., 9.]], dtype=torch.float32)"
            ]
          },
          "metadata": {
            "tags": []
          },
          "execution_count": 92
        }
      ]
    },
    {
      "cell_type": "code",
      "metadata": {
        "id": "L7sgl5n0jbhS",
        "colab_type": "code",
        "colab": {
          "base_uri": "https://localhost:8080/",
          "height": 51
        },
        "outputId": "302370ca-cd91-4017-fcc6-84d225667c09"
      },
      "source": [
        "# Clamp the value of a Tensor --> set upper and lower limits\n",
        "tensor_clamp = torch.clamp(tensor, min=-0.2, max=2)\n",
        "tensor_clamp"
      ],
      "execution_count": 93,
      "outputs": [
        {
          "output_type": "execute_result",
          "data": {
            "text/plain": [
              "tensor([[-0.2000, -0.2000, -0.2000],\n",
              "        [ 1.0000,  2.0000,  2.0000]], dtype=torch.float32)"
            ]
          },
          "metadata": {
            "tags": []
          },
          "execution_count": 93
        }
      ]
    },
    {
      "cell_type": "markdown",
      "metadata": {
        "id": "WZmPQtcKkV57",
        "colab_type": "text"
      },
      "source": [
        "##1.5. Vector Multiplication"
      ]
    },
    {
      "cell_type": "code",
      "metadata": {
        "id": "r1cAQcV9j1Uf",
        "colab_type": "code",
        "colab": {
          "base_uri": "https://localhost:8080/",
          "height": 34
        },
        "outputId": "f0d69531-5c76-4cc4-ffbd-6ec8cd0e7a86"
      },
      "source": [
        "t1 = torch.tensor([1, 2])\n",
        "t2 = torch.tensor([10, 20])\n",
        "dot_product = torch.dot(t1, t2)\n",
        "dot_product"
      ],
      "execution_count": 94,
      "outputs": [
        {
          "output_type": "execute_result",
          "data": {
            "text/plain": [
              "tensor(50)"
            ]
          },
          "metadata": {
            "tags": []
          },
          "execution_count": 94
        }
      ]
    },
    {
      "cell_type": "code",
      "metadata": {
        "id": "VaOXswkNl7on",
        "colab_type": "code",
        "colab": {
          "base_uri": "https://localhost:8080/",
          "height": 34
        },
        "outputId": "536a5b56-808b-47b7-9655-781091fad440"
      },
      "source": [
        "# Matrix Vector Product\n",
        "matrix = torch.tensor([[1, 2, 3], [4, 5, 6]])\n",
        "vector = torch.tensor([0, 1, 2])\n",
        "matrix_vector = torch.mv(matrix, vector)\n",
        "matrix_vector"
      ],
      "execution_count": 95,
      "outputs": [
        {
          "output_type": "execute_result",
          "data": {
            "text/plain": [
              "tensor([ 8, 17])"
            ]
          },
          "metadata": {
            "tags": []
          },
          "execution_count": 95
        }
      ]
    },
    {
      "cell_type": "code",
      "metadata": {
        "id": "vhYkdpNjmkjF",
        "colab_type": "code",
        "colab": {
          "base_uri": "https://localhost:8080/",
          "height": 51
        },
        "outputId": "598c170b-8b16-4402-faa6-858b2b47ccf2"
      },
      "source": [
        "# Matrix multiplication\n",
        "another_matrix = torch.tensor([\n",
        "                               [10, 30],\n",
        "                               [20, 0],\n",
        "                               [0, 50]\n",
        "])\n",
        "matrix_mul = torch.mm(matrix, another_matrix)\n",
        "matrix_mul"
      ],
      "execution_count": 96,
      "outputs": [
        {
          "output_type": "execute_result",
          "data": {
            "text/plain": [
              "tensor([[ 50, 180],\n",
              "        [140, 420]])"
            ]
          },
          "metadata": {
            "tags": []
          },
          "execution_count": 96
        }
      ]
    },
    {
      "cell_type": "code",
      "metadata": {
        "id": "9EOXHVoRm2Ye",
        "colab_type": "code",
        "colab": {
          "base_uri": "https://localhost:8080/",
          "height": 34
        },
        "outputId": "1300322d-d4d4-4a29-bf72-ad20c0695c43"
      },
      "source": [
        "# Returns the indices of the maximum values of a tensor across a dimension\n",
        "torch.argmax(matrix_mul, dim=1)"
      ],
      "execution_count": 105,
      "outputs": [
        {
          "output_type": "execute_result",
          "data": {
            "text/plain": [
              "tensor([1, 1])"
            ]
          },
          "metadata": {
            "tags": []
          },
          "execution_count": 105
        }
      ]
    },
    {
      "cell_type": "code",
      "metadata": {
        "id": "rDSYKdFDnBG2",
        "colab_type": "code",
        "colab": {
          "base_uri": "https://localhost:8080/",
          "height": 34
        },
        "outputId": "ea018b51-25c3-4188-e9eb-cb685a67553b"
      },
      "source": [
        "torch.argmin(matrix_mul, dim=1)"
      ],
      "execution_count": 99,
      "outputs": [
        {
          "output_type": "execute_result",
          "data": {
            "text/plain": [
              "tensor([0, 0])"
            ]
          },
          "metadata": {
            "tags": []
          },
          "execution_count": 99
        }
      ]
    },
    {
      "cell_type": "code",
      "metadata": {
        "id": "vbE6Wui_nF6a",
        "colab_type": "code",
        "colab": {}
      },
      "source": [
        ""
      ],
      "execution_count": 0,
      "outputs": []
    }
  ]
}