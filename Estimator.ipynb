{
  "nbformat": 4,
  "nbformat_minor": 0,
  "metadata": {
    "colab": {
      "name": "Estimator.ipynb",
      "provenance": []
    },
    "kernelspec": {
      "name": "python3",
      "display_name": "Python 3"
    }
  },
  "cells": [
    {
      "cell_type": "markdown",
      "metadata": {
        "id": "PnkqZUuZw82T",
        "colab_type": "text"
      },
      "source": [
        "#1. Premade Estimators\n",
        "\n",
        "An Estimator is TensorFlow's high-level representation of a complete model, and it has been designed for easy scaling and asynchronous training. --> a rule of calculation"
      ]
    },
    {
      "cell_type": "code",
      "metadata": {
        "id": "X_1aOOCXw8RM",
        "colab_type": "code",
        "colab": {}
      },
      "source": [
        "%tensorflow_version 2.x\n",
        "import tensorflow as tf\n",
        "import pandas as pd"
      ],
      "execution_count": 0,
      "outputs": []
    },
    {
      "cell_type": "code",
      "metadata": {
        "id": "EsDh2AkPxfm8",
        "colab_type": "code",
        "colab": {}
      },
      "source": [
        "CSV_COLUMN_NAMES = ['SepalLength', 'SepalWidth', 'PetalLength', 'PetalWidth', 'Species']\n",
        "SPECIES = ['Setosa', 'Versicolor', 'Virginica']"
      ],
      "execution_count": 0,
      "outputs": []
    },
    {
      "cell_type": "code",
      "metadata": {
        "id": "36UQecMqxsbP",
        "colab_type": "code",
        "outputId": "7cf4d595-b344-499d-d131-74c3a7ea52b8",
        "colab": {
          "base_uri": "https://localhost:8080/",
          "height": 105
        }
      },
      "source": [
        "train_path = tf.keras.utils.get_file(\n",
        "    \"iris_training.csv\", \"https://storage.googleapis.com/download.tensorflow.org/data/iris_training.csv\")\n",
        "test_path = tf.keras.utils.get_file(\n",
        "    \"iris_test.csv\", \"https://storage.googleapis.com/download.tensorflow.org/data/iris_test.csv\")\n",
        "\n",
        "train = pd.read_csv(train_path, names=CSV_COLUMN_NAMES, header=0)\n",
        "test = pd.read_csv(test_path, names=CSV_COLUMN_NAMES, header=0)"
      ],
      "execution_count": 3,
      "outputs": [
        {
          "output_type": "stream",
          "text": [
            "Downloading data from https://storage.googleapis.com/download.tensorflow.org/data/iris_training.csv\n",
            "8192/2194 [================================================================================================================] - 0s 0us/step\n",
            "Downloading data from https://storage.googleapis.com/download.tensorflow.org/data/iris_test.csv\n",
            "8192/573 [============================================================================================================================================================================================================================================================================================================================================================================================================================================] - 0s 0us/step\n"
          ],
          "name": "stdout"
        }
      ]
    },
    {
      "cell_type": "code",
      "metadata": {
        "id": "SAhJJP9oxwzT",
        "colab_type": "code",
        "outputId": "4734272d-f2cf-4d9a-bbc4-4ccbf010a71a",
        "colab": {
          "base_uri": "https://localhost:8080/",
          "height": 204
        }
      },
      "source": [
        "# inspect the data\n",
        "train.head()"
      ],
      "execution_count": 4,
      "outputs": [
        {
          "output_type": "execute_result",
          "data": {
            "text/html": [
              "<div>\n",
              "<style scoped>\n",
              "    .dataframe tbody tr th:only-of-type {\n",
              "        vertical-align: middle;\n",
              "    }\n",
              "\n",
              "    .dataframe tbody tr th {\n",
              "        vertical-align: top;\n",
              "    }\n",
              "\n",
              "    .dataframe thead th {\n",
              "        text-align: right;\n",
              "    }\n",
              "</style>\n",
              "<table border=\"1\" class=\"dataframe\">\n",
              "  <thead>\n",
              "    <tr style=\"text-align: right;\">\n",
              "      <th></th>\n",
              "      <th>SepalLength</th>\n",
              "      <th>SepalWidth</th>\n",
              "      <th>PetalLength</th>\n",
              "      <th>PetalWidth</th>\n",
              "      <th>Species</th>\n",
              "    </tr>\n",
              "  </thead>\n",
              "  <tbody>\n",
              "    <tr>\n",
              "      <th>0</th>\n",
              "      <td>6.4</td>\n",
              "      <td>2.8</td>\n",
              "      <td>5.6</td>\n",
              "      <td>2.2</td>\n",
              "      <td>2</td>\n",
              "    </tr>\n",
              "    <tr>\n",
              "      <th>1</th>\n",
              "      <td>5.0</td>\n",
              "      <td>2.3</td>\n",
              "      <td>3.3</td>\n",
              "      <td>1.0</td>\n",
              "      <td>1</td>\n",
              "    </tr>\n",
              "    <tr>\n",
              "      <th>2</th>\n",
              "      <td>4.9</td>\n",
              "      <td>2.5</td>\n",
              "      <td>4.5</td>\n",
              "      <td>1.7</td>\n",
              "      <td>2</td>\n",
              "    </tr>\n",
              "    <tr>\n",
              "      <th>3</th>\n",
              "      <td>4.9</td>\n",
              "      <td>3.1</td>\n",
              "      <td>1.5</td>\n",
              "      <td>0.1</td>\n",
              "      <td>0</td>\n",
              "    </tr>\n",
              "    <tr>\n",
              "      <th>4</th>\n",
              "      <td>5.7</td>\n",
              "      <td>3.8</td>\n",
              "      <td>1.7</td>\n",
              "      <td>0.3</td>\n",
              "      <td>0</td>\n",
              "    </tr>\n",
              "  </tbody>\n",
              "</table>\n",
              "</div>"
            ],
            "text/plain": [
              "   SepalLength  SepalWidth  PetalLength  PetalWidth  Species\n",
              "0          6.4         2.8          5.6         2.2        2\n",
              "1          5.0         2.3          3.3         1.0        1\n",
              "2          4.9         2.5          4.5         1.7        2\n",
              "3          4.9         3.1          1.5         0.1        0\n",
              "4          5.7         3.8          1.7         0.3        0"
            ]
          },
          "metadata": {
            "tags": []
          },
          "execution_count": 4
        }
      ]
    },
    {
      "cell_type": "code",
      "metadata": {
        "id": "FQRknteRx0Kr",
        "colab_type": "code",
        "outputId": "18772c03-9f39-40d4-b695-e5d8f44b7c1d",
        "colab": {
          "base_uri": "https://localhost:8080/",
          "height": 204
        }
      },
      "source": [
        "# Split the features and labels\n",
        "train_y = train.pop('Species')\n",
        "test_y = test.pop('Species')\n",
        "\n",
        "# The label column has now been removed from the features.\n",
        "train.head()"
      ],
      "execution_count": 5,
      "outputs": [
        {
          "output_type": "execute_result",
          "data": {
            "text/html": [
              "<div>\n",
              "<style scoped>\n",
              "    .dataframe tbody tr th:only-of-type {\n",
              "        vertical-align: middle;\n",
              "    }\n",
              "\n",
              "    .dataframe tbody tr th {\n",
              "        vertical-align: top;\n",
              "    }\n",
              "\n",
              "    .dataframe thead th {\n",
              "        text-align: right;\n",
              "    }\n",
              "</style>\n",
              "<table border=\"1\" class=\"dataframe\">\n",
              "  <thead>\n",
              "    <tr style=\"text-align: right;\">\n",
              "      <th></th>\n",
              "      <th>SepalLength</th>\n",
              "      <th>SepalWidth</th>\n",
              "      <th>PetalLength</th>\n",
              "      <th>PetalWidth</th>\n",
              "    </tr>\n",
              "  </thead>\n",
              "  <tbody>\n",
              "    <tr>\n",
              "      <th>0</th>\n",
              "      <td>6.4</td>\n",
              "      <td>2.8</td>\n",
              "      <td>5.6</td>\n",
              "      <td>2.2</td>\n",
              "    </tr>\n",
              "    <tr>\n",
              "      <th>1</th>\n",
              "      <td>5.0</td>\n",
              "      <td>2.3</td>\n",
              "      <td>3.3</td>\n",
              "      <td>1.0</td>\n",
              "    </tr>\n",
              "    <tr>\n",
              "      <th>2</th>\n",
              "      <td>4.9</td>\n",
              "      <td>2.5</td>\n",
              "      <td>4.5</td>\n",
              "      <td>1.7</td>\n",
              "    </tr>\n",
              "    <tr>\n",
              "      <th>3</th>\n",
              "      <td>4.9</td>\n",
              "      <td>3.1</td>\n",
              "      <td>1.5</td>\n",
              "      <td>0.1</td>\n",
              "    </tr>\n",
              "    <tr>\n",
              "      <th>4</th>\n",
              "      <td>5.7</td>\n",
              "      <td>3.8</td>\n",
              "      <td>1.7</td>\n",
              "      <td>0.3</td>\n",
              "    </tr>\n",
              "  </tbody>\n",
              "</table>\n",
              "</div>"
            ],
            "text/plain": [
              "   SepalLength  SepalWidth  PetalLength  PetalWidth\n",
              "0          6.4         2.8          5.6         2.2\n",
              "1          5.0         2.3          3.3         1.0\n",
              "2          4.9         2.5          4.5         1.7\n",
              "3          4.9         3.1          1.5         0.1\n",
              "4          5.7         3.8          1.7         0.3"
            ]
          },
          "metadata": {
            "tags": []
          },
          "execution_count": 5
        }
      ]
    },
    {
      "cell_type": "markdown",
      "metadata": {
        "id": "wn8ZLUjsyBRi",
        "colab_type": "text"
      },
      "source": [
        "##1.1. Overview of programming with Estimators"
      ]
    },
    {
      "cell_type": "markdown",
      "metadata": {
        "id": "Y-VVEjdQzUMZ",
        "colab_type": "text"
      },
      "source": [
        "###1.1.1. Create input functions"
      ]
    },
    {
      "cell_type": "code",
      "metadata": {
        "id": "uK0GP3DCx8J8",
        "colab_type": "code",
        "colab": {}
      },
      "source": [
        "# An input function is a function that returns a tf.data.Dataset object\n",
        "# with (features, label) tuple.\n",
        "# features: A python dictionary\n",
        "\n",
        "def input_evaluation_set():\n",
        "    features = {'SepalLength': np.array([6.4, 5.0]),\n",
        "                'SepalWidth':  np.array([2.8, 2.3]),\n",
        "                'PetalLength': np.array([5.6, 3.3]),\n",
        "                'PetalWidth':  np.array([2.2, 1.0])}\n",
        "    labels = np.array([2, 1])\n",
        "    return features, labels"
      ],
      "execution_count": 0,
      "outputs": []
    },
    {
      "cell_type": "code",
      "metadata": {
        "id": "Ecd6QT8YzwiN",
        "colab_type": "code",
        "colab": {}
      },
      "source": [
        "def input_fn(features, labels, training=True, batch_size=256):\n",
        "  '''An input function for training or evaluating'''\n",
        "  # Convert the inputs to a Dataset.\n",
        "  dataset = tf.data.Dataset.from_tensor_slices((dict(features), labels))\n",
        "\n",
        "  # Shuffle and repeat if you are in training mode\n",
        "  if training:\n",
        "    # the dataset is repeated indefinitely\n",
        "    dataset = dataset.shuffle(1000).repeat()\n",
        "  \n",
        "  return dataset.batch(batch_size)"
      ],
      "execution_count": 0,
      "outputs": []
    },
    {
      "cell_type": "markdown",
      "metadata": {
        "id": "uE0t0gDR05I-",
        "colab_type": "text"
      },
      "source": [
        "###1.1.2. Define the feature columns"
      ]
    },
    {
      "cell_type": "code",
      "metadata": {
        "id": "mPiu8RYL04fT",
        "colab_type": "code",
        "colab": {}
      },
      "source": [
        "# Feature columns describe how to use the input.\n",
        "my_feature_columns = []\n",
        "for key in train.keys():\n",
        "    my_feature_columns.append(tf.feature_column.numeric_column(key=key))"
      ],
      "execution_count": 0,
      "outputs": []
    },
    {
      "cell_type": "markdown",
      "metadata": {
        "id": "P8s242yz13kV",
        "colab_type": "text"
      },
      "source": [
        "###1.1.3. Instantiate an estimator\n",
        "\n",
        "tf.estimator.DNNClassifier: multiclass classification\n",
        "\n",
        "tf.estimator.DNNLinearCombinedClassifier: for wide & deep models\n",
        "\n",
        "tf.estimator.LinearClassifier: classifiers based on linear models"
      ]
    },
    {
      "cell_type": "code",
      "metadata": {
        "id": "S2g-Uy1U126p",
        "colab_type": "code",
        "colab": {
          "base_uri": "https://localhost:8080/",
          "height": 190
        },
        "outputId": "7fc50526-3972-4021-9798-6669b146fe38"
      },
      "source": [
        "# Build a DNN with 2 hidden layers with 30 and 10 hidden nodes each.\n",
        "classifier = tf.estimator.DNNClassifier(\n",
        "    feature_columns=my_feature_columns,\n",
        "    # Two hidden layers of 30 and 10 nodes respectively.\n",
        "    hidden_units=[30, 10],\n",
        "    # The model must choose between 3 classes.\n",
        "    n_classes=3)"
      ],
      "execution_count": 9,
      "outputs": [
        {
          "output_type": "stream",
          "text": [
            "INFO:tensorflow:Using default config.\n",
            "WARNING:tensorflow:Using temporary folder as model directory: /tmp/tmpoj370q5e\n",
            "INFO:tensorflow:Using config: {'_model_dir': '/tmp/tmpoj370q5e', '_tf_random_seed': None, '_save_summary_steps': 100, '_save_checkpoints_steps': None, '_save_checkpoints_secs': 600, '_session_config': allow_soft_placement: true\n",
            "graph_options {\n",
            "  rewrite_options {\n",
            "    meta_optimizer_iterations: ONE\n",
            "  }\n",
            "}\n",
            ", '_keep_checkpoint_max': 5, '_keep_checkpoint_every_n_hours': 10000, '_log_step_count_steps': 100, '_train_distribute': None, '_device_fn': None, '_protocol': None, '_eval_distribute': None, '_experimental_distribute': None, '_experimental_max_worker_delay_secs': None, '_session_creation_timeout_secs': 7200, '_service': None, '_cluster_spec': ClusterSpec({}), '_task_type': 'worker', '_task_id': 0, '_global_id_in_cluster': 0, '_master': '', '_evaluation_master': '', '_is_chief': True, '_num_ps_replicas': 0, '_num_worker_replicas': 1}\n"
          ],
          "name": "stdout"
        }
      ]
    },
    {
      "cell_type": "markdown",
      "metadata": {
        "id": "zBJCOQctaaGd",
        "colab_type": "text"
      },
      "source": [
        "##1.2. Train, Evaluate, and Predict"
      ]
    },
    {
      "cell_type": "code",
      "metadata": {
        "id": "XjcS00zuaNsD",
        "colab_type": "code",
        "colab": {
          "base_uri": "https://localhost:8080/",
          "height": 1000
        },
        "outputId": "85639f5e-7aa4-4cfb-e688-134e75391476"
      },
      "source": [
        "# Train the Model\n",
        "classifier.train(\n",
        "    input_fn=lambda: input_fn(train, train_y, training=True),\n",
        "    steps=5000\n",
        ")\n",
        "# lambda --> to capture the arguments"
      ],
      "execution_count": 10,
      "outputs": [
        {
          "output_type": "stream",
          "text": [
            "WARNING:tensorflow:From /usr/local/lib/python3.6/dist-packages/tensorflow/python/ops/resource_variable_ops.py:1666: calling BaseResourceVariable.__init__ (from tensorflow.python.ops.resource_variable_ops) with constraint is deprecated and will be removed in a future version.\n",
            "Instructions for updating:\n",
            "If using Keras pass *_constraint arguments to layers.\n",
            "WARNING:tensorflow:From /usr/local/lib/python3.6/dist-packages/tensorflow/python/training/training_util.py:236: Variable.initialized_value (from tensorflow.python.ops.variables) is deprecated and will be removed in a future version.\n",
            "Instructions for updating:\n",
            "Use Variable.read_value. Variables in 2.X are initialized automatically both in eager and graph (inside tf.defun) contexts.\n",
            "INFO:tensorflow:Calling model_fn.\n",
            "WARNING:tensorflow:Layer dnn is casting an input tensor from dtype float64 to the layer's dtype of float32, which is new behavior in TensorFlow 2.  The layer has dtype float32 because it's dtype defaults to floatx.\n",
            "\n",
            "If you intended to run this layer in float32, you can safely ignore this warning. If in doubt, this warning is likely only an issue if you are porting a TensorFlow 1.X model to TensorFlow 2.\n",
            "\n",
            "To change all layers to have dtype float64 by default, call `tf.keras.backend.set_floatx('float64')`. To change just this layer, pass dtype='float64' to the layer constructor. If you are the author of this layer, you can disable autocasting by passing autocast=False to the base Layer constructor.\n",
            "\n",
            "WARNING:tensorflow:From /usr/local/lib/python3.6/dist-packages/tensorflow/python/keras/optimizer_v2/adagrad.py:106: calling Constant.__init__ (from tensorflow.python.ops.init_ops) with dtype is deprecated and will be removed in a future version.\n",
            "Instructions for updating:\n",
            "Call initializer instance with the dtype argument instead of passing it to the constructor\n",
            "INFO:tensorflow:Done calling model_fn.\n",
            "INFO:tensorflow:Create CheckpointSaverHook.\n",
            "INFO:tensorflow:Graph was finalized.\n",
            "INFO:tensorflow:Running local_init_op.\n",
            "INFO:tensorflow:Done running local_init_op.\n",
            "INFO:tensorflow:Calling checkpoint listeners before saving checkpoint 0...\n",
            "INFO:tensorflow:Saving checkpoints for 0 into /tmp/tmpoj370q5e/model.ckpt.\n",
            "INFO:tensorflow:Calling checkpoint listeners after saving checkpoint 0...\n",
            "INFO:tensorflow:loss = 3.116554, step = 0\n",
            "INFO:tensorflow:global_step/sec: 507.487\n",
            "INFO:tensorflow:loss = 1.2246678, step = 100 (0.198 sec)\n",
            "INFO:tensorflow:global_step/sec: 660.758\n",
            "INFO:tensorflow:loss = 1.0660512, step = 200 (0.155 sec)\n",
            "INFO:tensorflow:global_step/sec: 652.457\n",
            "INFO:tensorflow:loss = 1.0365212, step = 300 (0.149 sec)\n",
            "INFO:tensorflow:global_step/sec: 601.838\n",
            "INFO:tensorflow:loss = 1.0227675, step = 400 (0.169 sec)\n",
            "INFO:tensorflow:global_step/sec: 640.306\n",
            "INFO:tensorflow:loss = 0.98255146, step = 500 (0.157 sec)\n",
            "INFO:tensorflow:global_step/sec: 675.616\n",
            "INFO:tensorflow:loss = 0.9471797, step = 600 (0.144 sec)\n",
            "INFO:tensorflow:global_step/sec: 666.058\n",
            "INFO:tensorflow:loss = 0.917501, step = 700 (0.150 sec)\n",
            "INFO:tensorflow:global_step/sec: 648.635\n",
            "INFO:tensorflow:loss = 0.9076768, step = 800 (0.157 sec)\n",
            "INFO:tensorflow:global_step/sec: 649.095\n",
            "INFO:tensorflow:loss = 0.87894654, step = 900 (0.152 sec)\n",
            "INFO:tensorflow:global_step/sec: 640.727\n",
            "INFO:tensorflow:loss = 0.85757494, step = 1000 (0.158 sec)\n",
            "INFO:tensorflow:global_step/sec: 643.127\n",
            "INFO:tensorflow:loss = 0.8441471, step = 1100 (0.153 sec)\n",
            "INFO:tensorflow:global_step/sec: 591.137\n",
            "INFO:tensorflow:loss = 0.830096, step = 1200 (0.170 sec)\n",
            "INFO:tensorflow:global_step/sec: 641.655\n",
            "INFO:tensorflow:loss = 0.8155184, step = 1300 (0.157 sec)\n",
            "INFO:tensorflow:global_step/sec: 648.374\n",
            "INFO:tensorflow:loss = 0.799915, step = 1400 (0.153 sec)\n",
            "INFO:tensorflow:global_step/sec: 664.899\n",
            "INFO:tensorflow:loss = 0.7835261, step = 1500 (0.149 sec)\n",
            "INFO:tensorflow:global_step/sec: 657.053\n",
            "INFO:tensorflow:loss = 0.77188694, step = 1600 (0.152 sec)\n",
            "INFO:tensorflow:global_step/sec: 649.843\n",
            "INFO:tensorflow:loss = 0.75983447, step = 1700 (0.154 sec)\n",
            "INFO:tensorflow:global_step/sec: 663.624\n",
            "INFO:tensorflow:loss = 0.74807835, step = 1800 (0.150 sec)\n",
            "INFO:tensorflow:global_step/sec: 649.907\n",
            "INFO:tensorflow:loss = 0.7270646, step = 1900 (0.154 sec)\n",
            "INFO:tensorflow:global_step/sec: 652.718\n",
            "INFO:tensorflow:loss = 0.7266239, step = 2000 (0.153 sec)\n",
            "INFO:tensorflow:global_step/sec: 655.961\n",
            "INFO:tensorflow:loss = 0.71105134, step = 2100 (0.153 sec)\n",
            "INFO:tensorflow:global_step/sec: 693.065\n",
            "INFO:tensorflow:loss = 0.7061201, step = 2200 (0.146 sec)\n",
            "INFO:tensorflow:global_step/sec: 642.986\n",
            "INFO:tensorflow:loss = 0.6941544, step = 2300 (0.155 sec)\n",
            "INFO:tensorflow:global_step/sec: 687.603\n",
            "INFO:tensorflow:loss = 0.6878252, step = 2400 (0.145 sec)\n",
            "INFO:tensorflow:global_step/sec: 668.839\n",
            "INFO:tensorflow:loss = 0.66709924, step = 2500 (0.150 sec)\n",
            "INFO:tensorflow:global_step/sec: 670.551\n",
            "INFO:tensorflow:loss = 0.6785493, step = 2600 (0.147 sec)\n",
            "INFO:tensorflow:global_step/sec: 641.895\n",
            "INFO:tensorflow:loss = 0.6614282, step = 2700 (0.156 sec)\n",
            "INFO:tensorflow:global_step/sec: 646.275\n",
            "INFO:tensorflow:loss = 0.65859336, step = 2800 (0.157 sec)\n",
            "INFO:tensorflow:global_step/sec: 661.589\n",
            "INFO:tensorflow:loss = 0.6421062, step = 2900 (0.151 sec)\n",
            "INFO:tensorflow:global_step/sec: 621.285\n",
            "INFO:tensorflow:loss = 0.63898563, step = 3000 (0.160 sec)\n",
            "INFO:tensorflow:global_step/sec: 657.867\n",
            "INFO:tensorflow:loss = 0.6397765, step = 3100 (0.153 sec)\n",
            "INFO:tensorflow:global_step/sec: 627.109\n",
            "INFO:tensorflow:loss = 0.62701595, step = 3200 (0.160 sec)\n",
            "INFO:tensorflow:global_step/sec: 640.781\n",
            "INFO:tensorflow:loss = 0.61610305, step = 3300 (0.153 sec)\n",
            "INFO:tensorflow:global_step/sec: 677.67\n",
            "INFO:tensorflow:loss = 0.59938574, step = 3400 (0.148 sec)\n",
            "INFO:tensorflow:global_step/sec: 625.745\n",
            "INFO:tensorflow:loss = 0.59916556, step = 3500 (0.160 sec)\n",
            "INFO:tensorflow:global_step/sec: 624.911\n",
            "INFO:tensorflow:loss = 0.6004859, step = 3600 (0.159 sec)\n",
            "INFO:tensorflow:global_step/sec: 645.692\n",
            "INFO:tensorflow:loss = 0.59392214, step = 3700 (0.158 sec)\n",
            "INFO:tensorflow:global_step/sec: 660.786\n",
            "INFO:tensorflow:loss = 0.58263457, step = 3800 (0.151 sec)\n",
            "INFO:tensorflow:global_step/sec: 624.925\n",
            "INFO:tensorflow:loss = 0.58392346, step = 3900 (0.158 sec)\n",
            "INFO:tensorflow:global_step/sec: 637.014\n",
            "INFO:tensorflow:loss = 0.5791476, step = 4000 (0.158 sec)\n",
            "INFO:tensorflow:global_step/sec: 644.136\n",
            "INFO:tensorflow:loss = 0.56656754, step = 4100 (0.156 sec)\n",
            "INFO:tensorflow:global_step/sec: 640.851\n",
            "INFO:tensorflow:loss = 0.56702185, step = 4200 (0.154 sec)\n",
            "INFO:tensorflow:global_step/sec: 662.286\n",
            "INFO:tensorflow:loss = 0.55871266, step = 4300 (0.153 sec)\n",
            "INFO:tensorflow:global_step/sec: 633.178\n",
            "INFO:tensorflow:loss = 0.5459311, step = 4400 (0.155 sec)\n",
            "INFO:tensorflow:global_step/sec: 678.665\n",
            "INFO:tensorflow:loss = 0.5519059, step = 4500 (0.149 sec)\n",
            "INFO:tensorflow:global_step/sec: 646.15\n",
            "INFO:tensorflow:loss = 0.53834116, step = 4600 (0.153 sec)\n",
            "INFO:tensorflow:global_step/sec: 665.625\n",
            "INFO:tensorflow:loss = 0.53295785, step = 4700 (0.151 sec)\n",
            "INFO:tensorflow:global_step/sec: 615.293\n",
            "INFO:tensorflow:loss = 0.5345042, step = 4800 (0.163 sec)\n",
            "INFO:tensorflow:global_step/sec: 631.536\n",
            "INFO:tensorflow:loss = 0.52239525, step = 4900 (0.158 sec)\n",
            "INFO:tensorflow:Calling checkpoint listeners before saving checkpoint 5000...\n",
            "INFO:tensorflow:Saving checkpoints for 5000 into /tmp/tmpoj370q5e/model.ckpt.\n",
            "INFO:tensorflow:Calling checkpoint listeners after saving checkpoint 5000...\n",
            "INFO:tensorflow:Loss for final step: 0.5285243.\n"
          ],
          "name": "stdout"
        },
        {
          "output_type": "execute_result",
          "data": {
            "text/plain": [
              "<tensorflow_estimator.python.estimator.canned.dnn.DNNClassifierV2 at 0x7fa49e84ffd0>"
            ]
          },
          "metadata": {
            "tags": []
          },
          "execution_count": 10
        }
      ]
    },
    {
      "cell_type": "code",
      "metadata": {
        "id": "p5aSswTFauc5",
        "colab_type": "code",
        "colab": {
          "base_uri": "https://localhost:8080/",
          "height": 377
        },
        "outputId": "273896fa-9214-4234-856a-1bfdd25c12b6"
      },
      "source": [
        "# Evaluate the trained model\n",
        "eval_result = classifier.evaluate(\n",
        "    input_fn=lambda: input_fn(test, test_y, training=False)\n",
        ")\n",
        "print('\\nTest set accuracy: {accuracy:0.3f}\\n'.format(**eval_result))"
      ],
      "execution_count": 11,
      "outputs": [
        {
          "output_type": "stream",
          "text": [
            "INFO:tensorflow:Calling model_fn.\n",
            "WARNING:tensorflow:Layer dnn is casting an input tensor from dtype float64 to the layer's dtype of float32, which is new behavior in TensorFlow 2.  The layer has dtype float32 because it's dtype defaults to floatx.\n",
            "\n",
            "If you intended to run this layer in float32, you can safely ignore this warning. If in doubt, this warning is likely only an issue if you are porting a TensorFlow 1.X model to TensorFlow 2.\n",
            "\n",
            "To change all layers to have dtype float64 by default, call `tf.keras.backend.set_floatx('float64')`. To change just this layer, pass dtype='float64' to the layer constructor. If you are the author of this layer, you can disable autocasting by passing autocast=False to the base Layer constructor.\n",
            "\n",
            "INFO:tensorflow:Done calling model_fn.\n",
            "INFO:tensorflow:Starting evaluation at 2020-04-11T18:07:41Z\n",
            "INFO:tensorflow:Graph was finalized.\n",
            "INFO:tensorflow:Restoring parameters from /tmp/tmpoj370q5e/model.ckpt-5000\n",
            "INFO:tensorflow:Running local_init_op.\n",
            "INFO:tensorflow:Done running local_init_op.\n",
            "INFO:tensorflow:Inference Time : 0.26719s\n",
            "INFO:tensorflow:Finished evaluation at 2020-04-11-18:07:42\n",
            "INFO:tensorflow:Saving dict for global step 5000: accuracy = 0.8333333, average_loss = 0.5933752, global_step = 5000, loss = 0.5933752\n",
            "INFO:tensorflow:Saving 'checkpoint_path' summary for global step 5000: /tmp/tmpoj370q5e/model.ckpt-5000\n",
            "\n",
            "Test set accuracy: 0.833\n",
            "\n"
          ],
          "name": "stdout"
        }
      ]
    },
    {
      "cell_type": "code",
      "metadata": {
        "id": "VCvV7oaqbQcb",
        "colab_type": "code",
        "colab": {}
      },
      "source": [
        "# Making predictions\n",
        "# Generate predictions from the model\n",
        "expected = ['Setosa', 'Versicolor', 'Virginica']\n",
        "predict_x = {\n",
        "    'SepalLength': [5.1, 5.9, 6.9],\n",
        "    'SepalWidth': [3.3, 3.0, 3.1],\n",
        "    'PetalLength': [1.7, 4.2, 5.4],\n",
        "    'PetalWidth': [0.5, 1.5, 2.1],\n",
        "}\n",
        "\n",
        "def input_fn(features, batch_size=256):\n",
        "    \"\"\"An input function for prediction.\"\"\"\n",
        "    # Convert the inputs to a Dataset without labels.\n",
        "    return tf.data.Dataset.from_tensor_slices(dict(features)).batch(batch_size)\n",
        "\n",
        "predictions = classifier.predict(\n",
        "    input_fn=lambda: input_fn(predict_x))"
      ],
      "execution_count": 0,
      "outputs": []
    },
    {
      "cell_type": "code",
      "metadata": {
        "id": "bdYeNxZFbxaz",
        "colab_type": "code",
        "colab": {
          "base_uri": "https://localhost:8080/",
          "height": 170
        },
        "outputId": "1cf4b51d-82ea-495f-e832-bf9e4c52dae3"
      },
      "source": [
        "for pred_dict, expec in zip(predictions, expected):\n",
        "    class_id = pred_dict['class_ids'][0]\n",
        "    probability = pred_dict['probabilities'][class_id]\n",
        "\n",
        "    print('Prediction is \"{}\" ({:.1f}%), expected \"{}\"'.format(\n",
        "        SPECIES[class_id], 100 * probability, expec))"
      ],
      "execution_count": 13,
      "outputs": [
        {
          "output_type": "stream",
          "text": [
            "INFO:tensorflow:Calling model_fn.\n",
            "INFO:tensorflow:Done calling model_fn.\n",
            "INFO:tensorflow:Graph was finalized.\n",
            "INFO:tensorflow:Restoring parameters from /tmp/tmpoj370q5e/model.ckpt-5000\n",
            "INFO:tensorflow:Running local_init_op.\n",
            "INFO:tensorflow:Done running local_init_op.\n",
            "Prediction is \"Setosa\" (65.2%), expected \"Setosa\"\n",
            "Prediction is \"Versicolor\" (46.0%), expected \"Versicolor\"\n",
            "Prediction is \"Virginica\" (58.4%), expected \"Virginica\"\n"
          ],
          "name": "stdout"
        }
      ]
    },
    {
      "cell_type": "code",
      "metadata": {
        "id": "HZM2859-b082",
        "colab_type": "code",
        "colab": {}
      },
      "source": [
        ""
      ],
      "execution_count": 0,
      "outputs": []
    }
  ]
}