{
  "nbformat": 4,
  "nbformat_minor": 0,
  "metadata": {
    "colab": {
      "name": "Tensorflow_Youtube.ipynb",
      "provenance": []
    },
    "kernelspec": {
      "name": "python3",
      "display_name": "Python 3"
    }
  },
  "cells": [
    {
      "cell_type": "markdown",
      "metadata": {
        "id": "gRQsV2FB9gB7",
        "colab_type": "text"
      },
      "source": [
        "#1. Machine Learning Fundamentals\n",
        "\n",
        "AI vs NN vs ML:\n",
        "* A.I.: The effort to automate intellectual tasks normally performed by humans. \n",
        "* ML: ML is actually a part of A.I.. ML figures out the rules for us. Goal of ML models: highest accuracy possible. Rather than giving the program the rules, an algorithm finds the rules for us. \n",
        "* NN: NN is a further part of ML. A form of machine learning that uses a layered representation data. \n",
        "\n",
        "Data is the most important part of ML:\n",
        "* use feature and label. \n",
        "\n",
        "Different Types of ML:\n",
        "1. Unsupervised Learning: features and labels --> to predict the labels\n",
        "2. Supervised Learning: only features  --> cluster the data\n",
        "3. Reinforcement Learning: no data instead agent, environment, and reward. "
      ]
    },
    {
      "cell_type": "markdown",
      "metadata": {
        "id": "wPtk1MBCD_yD",
        "colab_type": "text"
      },
      "source": [
        "#2. Introduction to TensorFlow\n",
        "\n",
        "TensorFlow has two main components that we will try to understand:\n",
        "* **Graphs**: TensorFLow works by building a graph of defined computations. Nothing is computed or stored in this graph. It is simply a way of defining the operations that have been written in code. --> Writing the equation but no operation. e.g. val1 = val2 + val3. --> Graph: computation might be connected.\n",
        "* **Sessions**: A TensorFlow sessions allows parts of the graph to be executed. It allocates memory and resources and handles the execution of the operations and computations we've definded. --> computate the operation from the lower graph, the val who has no connection to the top. "
      ]
    },
    {
      "cell_type": "code",
      "metadata": {
        "id": "AVX4o2XNrSHc",
        "colab_type": "code",
        "colab": {
          "base_uri": "https://localhost:8080/",
          "height": 34
        },
        "outputId": "0fdcf6cb-4cfa-4a6d-9b37-becfb23315ad"
      },
      "source": [
        "%tensorflow_version 2.x\n",
        "import tensorflow as tf\n",
        "print(tf.__version__)"
      ],
      "execution_count": 3,
      "outputs": [
        {
          "output_type": "stream",
          "text": [
            "2.2.0-rc3\n"
          ],
          "name": "stdout"
        }
      ]
    },
    {
      "cell_type": "markdown",
      "metadata": {
        "id": "PyoNLXO6IN5Q",
        "colab_type": "text"
      },
      "source": [
        "##2.1. Tensors\n",
        "\n",
        "A vector to hire the data. A tensor is a generalization of vectors and matrices to potentially higher dimensions. Internally, TensorFlow represents tensors as n-dimensional arrays of base datatypes. Each tensor represents a partialy defined computation that will eventually produce a value. --> store the computation of graph. TensorFLow programs work by building a graph of Tensor objects that details how tensors are related. Running different parts of the graph allow results to be generated. Each tensor has a data type and a shape. "
      ]
    },
    {
      "cell_type": "code",
      "metadata": {
        "id": "vX2x_-wfH67d",
        "colab_type": "code",
        "colab": {}
      },
      "source": [
        ""
      ],
      "execution_count": 0,
      "outputs": []
    }
  ]
}